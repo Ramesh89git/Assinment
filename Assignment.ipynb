{
  "nbformat": 4,
  "nbformat_minor": 0,
  "metadata": {
    "colab": {
      "provenance": []
    },
    "kernelspec": {
      "name": "python3",
      "display_name": "Python 3"
    },
    "language_info": {
      "name": "python"
    }
  },
  "cells": [
    {
      "cell_type": "markdown",
      "source": [
        "# **Assinment**\n",
        "1. What are data structures, and why are they important ?\n",
        "  - Data structures are fundamental concepts in computer science that enable efficient organization, storage, and manipulation of data. They provide a way to manage large amounts of data, making it possible to perform operations such as sorting, searching, inserting, and deleting data quickly and efficiently.\n",
        "- **IMPOTANCE OF DATA STRUCTURES**\n",
        "  - *Efficient of Data Managment* :- Data structures enable efficient storage, retrieval, and manipulation of data.\n",
        "  -*Improved Pweformance* :- Well -designed data structures can significantly improve the performance of algorithms and applications.\n",
        "  -*Simplified code* :- Data structures provide a way to abstract complex datarelationships, making code easier to write and maintain.\n",
        "  -*Scalability* :-  Data structures can handle large amounts of data, making them essential for big data applications.\n",
        "  -*Provlem-Solving* :- Data structures provide a way model real-world problems, making it easier to develop efficient solutions.\n",
        "\n",
        "2.   Explain the difference between mutable and immutable data types with examples ?\n",
        "  - *In programming, data types can be classified into two main categories* :\n",
        "  mutable and immutable. The primary difference between them lies in their ability to change their values after they are created.\n",
        "\n",
        "  - Immutable data types are those that cannot be modified once they are created. Their values remain constant throughout the program's execution. Ex - Floats, Strings, tuples etc.\n",
        "  \n",
        "  - On the other hand, mutable data types can be modified after they are created. Their values can be changed as needed. Ex - Lists, Dictionarys, Sets etc.\n",
        "\n",
        "3. What are the main differences between lists and tuples in Python ?\n",
        "  - The main difference b/w a list and tuple in python is that lists are mutable, meaning they can be modified after creation, while tuples are immutable, meaning they cannot be changed once defined.\n",
        "4. Describe how dictionaries store data ?\n",
        " - Dictionaries are used to store data values in key:value pairs.\n",
        "\n",
        "  Example:-\n"
      ],
      "metadata": {
        "id": "yv5oe4t6bOjs"
      }
    },
    {
      "cell_type": "code",
      "source": [
        "# Here's an example of how a dictionary might store data:\n",
        "my_dict = {\"name\": \"John\", \"age\": 30, \"city\": \"New York\"}\n",
        "my_dict\n"
      ],
      "metadata": {
        "colab": {
          "base_uri": "https://localhost:8080/"
        },
        "id": "Aj4PSjYubA5l",
        "outputId": "baa946b8-100a-459c-f9b0-b274b38ee64f"
      },
      "execution_count": null,
      "outputs": [
        {
          "output_type": "execute_result",
          "data": {
            "text/plain": [
              "{'name': 'John', 'age': 30, 'city': 'New York'}"
            ]
          },
          "metadata": {},
          "execution_count": 2
        }
      ]
    },
    {
      "cell_type": "markdown",
      "source": [
        "5. Why might you use a set instead of a list in Python ?\n",
        "  - You might use a set instead of a list in Python for several reasons :-\n",
        "\n",
        "  1. **Uniqueness**\n",
        "\n",
        "    Sets automatically eliminate duplicate values, whereas lists allow duplicates.\n",
        "  \n",
        "     Example -\n",
        "     \n"
      ],
      "metadata": {
        "id": "y8HYOpMc9U7R"
      }
    },
    {
      "cell_type": "code",
      "source": [
        "numbers = [1, 2, 2, 3, 4, 4, 5]\n",
        "unique_numbers = set(numbers)  # {1, 2, 3, 4, 5}\n"
      ],
      "metadata": {
        "id": "LPr2qGxFtlpm"
      },
      "execution_count": null,
      "outputs": []
    },
    {
      "cell_type": "markdown",
      "source": [
        "  2. **Faster Membership Testing (in Operator)**\n",
        "    \n",
        "     Checking if an item exists in a set (x in set) is O(1) on average, while in a list, it's O(n).\n",
        "\n",
        "     Example -\n",
        "     "
      ],
      "metadata": {
        "id": "Ffn4to-6uNHH"
      }
    },
    {
      "cell_type": "code",
      "source": [
        "my_list = [1, 2, 3, 4, 5]\n",
        "my_set = {1, 2, 3, 4, 5}\n",
        "\n",
        "print(3 in my_list)  # Slower (O(n))\n",
        "print(3 in my_set)   # Faster (O(1))\n"
      ],
      "metadata": {
        "colab": {
          "base_uri": "https://localhost:8080/"
        },
        "id": "pfHd-aiju-6-",
        "outputId": "3532b646-8208-4e40-bb3c-5b83b2c2b18c"
      },
      "execution_count": null,
      "outputs": [
        {
          "output_type": "stream",
          "name": "stdout",
          "text": [
            "True\n",
            "True\n"
          ]
        }
      ]
    },
    {
      "cell_type": "markdown",
      "source": [
        "   3. **Set Operations (Union, Intersection, Difference, Symmetric Difference)**\n",
        "    - Sets support mathematical operations that lists do not :-\n",
        "\n",
        "       Example -\n",
        "\n"
      ],
      "metadata": {
        "id": "T9C4SiuLvV9-"
      }
    },
    {
      "cell_type": "markdown",
      "source": [],
      "metadata": {
        "id": "2HpTc0LWv7r7"
      }
    },
    {
      "cell_type": "code",
      "source": [
        "set1 = {1, 2, 3}\n",
        "set2 = {3, 4, 5}\n",
        "\n",
        "print(set1 | set2)  # Union -> {1, 2, 3, 4, 5}\n",
        "print(set1 & set2)  # Intersection -> {3}\n",
        "print(set1 - set2)  # Difference -> {1, 2}\n",
        "print(set1 ^ set2)  # Symmetric Difference -> {1, 2, 4, 5}\n"
      ],
      "metadata": {
        "colab": {
          "base_uri": "https://localhost:8080/"
        },
        "id": "v_w3A3Hmv2mH",
        "outputId": "576910ff-540d-4d6d-b874-ae0a09365ccc"
      },
      "execution_count": null,
      "outputs": [
        {
          "output_type": "stream",
          "name": "stdout",
          "text": [
            "{1, 2, 3, 4, 5}\n",
            "{3}\n",
            "{1, 2}\n",
            "{1, 2, 4, 5}\n"
          ]
        }
      ]
    },
    {
      "cell_type": "markdown",
      "source": [],
      "metadata": {
        "id": "oWsJy5VCxAYX"
      }
    },
    {
      "cell_type": "markdown",
      "source": [
        "6.  What is a string in Python, and how is it different from a list ?\n",
        "\n",
        "  **STRING** :- A string in Python is a sequence of characters enclosed in single ('), double (\"), or triple (''' or \"\"\") quotes. Strings are immutable, meaning they cannot be changed after creation.\n",
        "\n",
        "  Example -\n",
        "  \n"
      ],
      "metadata": {
        "id": "6SDgSM_QxMFV"
      }
    },
    {
      "cell_type": "code",
      "source": [
        "text = \"Hello, World!\"\n",
        "print(text)  # Output: Hello, World!\n",
        "type(text) # Output:str"
      ],
      "metadata": {
        "colab": {
          "base_uri": "https://localhost:8080/"
        },
        "id": "OnhqB6Qlyyom",
        "outputId": "68053a54-3d82-4e4f-b2fc-6d69a2fa4da7"
      },
      "execution_count": null,
      "outputs": [
        {
          "output_type": "stream",
          "name": "stdout",
          "text": [
            "Hello, World!\n"
          ]
        },
        {
          "output_type": "execute_result",
          "data": {
            "text/plain": [
              "str"
            ]
          },
          "metadata": {},
          "execution_count": 6
        }
      ]
    },
    {
      "cell_type": "markdown",
      "source": [
        "  - **Difference b/w list and string** :-  \n",
        "\n",
        "   In Python, a string is a sequence of characters, while a list is a sequence of items that can be of any type."
      ],
      "metadata": {
        "id": "xIOqOTJuzWmd"
      }
    },
    {
      "cell_type": "markdown",
      "source": [
        "7. How do tuples ensure data integrity in Python ?\n",
        " - Tuples ensure data integrity in Python by being immutable, meaning their elements cannot be modified, added, or removed after creation. This prevents accidental changes, making them ideal for storing constant or fixed data, such as database records or function returns. Since tuples are hashable (if they contain only immutable elements), they can be used as dictionary keys and set elements, ensuring data consistency. Their immutability also leads to better performance compared to lists, as Python optimizes tuple storage. By using tuples, developers prevent unintended modifications, ensuring reliable and consistent data throughout a program's execution."
      ],
      "metadata": {
        "id": "hiMJUjzN03pl"
      }
    },
    {
      "cell_type": "markdown",
      "source": [
        "8. What is a hash table, and how does it relate to dictionaries in Python ?\n",
        "\n",
        "  - A hash table is a data structure that stores key-value pairs using a hash function to map keys to unique indices. This enables fast lookups, insertions, and deletions in O(1) time on average.\n",
        "\n",
        "  - In Python, dictionaries (dict) are implemented using hash tables, allowing efficient key-based access. Each key is hashed, and its corresponding value is stored at the computed index. Since hash tables rely on unique keys, Python dictionaries do not allow duplicate keys. Collisions are handled using techniques like open addressing or separate chaining to maintain efficiency."
      ],
      "metadata": {
        "id": "46DtS6dj34Y-"
      }
    },
    {
      "cell_type": "markdown",
      "source": [
        "9.  Can lists contain different data types in Python ?\n",
        "\n",
        "  - Yes, Python lists can contain different data types because they are **heterogeneous**. A single list can hold **integers, floats, strings, booleans, other lists, tuples, dictionaries, and even functions**. This flexibility makes lists powerful for storing mixed data in dynamic applications.\n",
        "\n",
        "  Example -\n",
        "  \n"
      ],
      "metadata": {
        "id": "-HsaYBVM5e1n"
      }
    },
    {
      "cell_type": "code",
      "source": [
        "my_list = [42, \"hello\", 3.14, True, [1, 2, 3], {\"key\": \"value\"}]\n"
      ],
      "metadata": {
        "id": "mNDMH8mI7rmg"
      },
      "execution_count": null,
      "outputs": []
    },
    {
      "cell_type": "markdown",
      "source": [
        "  - Unlike arrays in some languages, Python lists are dynamic and not type-restricted, allowing diverse data storage within a single collection."
      ],
      "metadata": {
        "id": "arAW5cHp77rY"
      }
    },
    {
      "cell_type": "markdown",
      "source": [
        "10. Explain why strings are immutable in Python ?\n",
        "  - Strings in Python are immutable to ensure security, efficiency, and hashability. Since strings are widely used in hash tables (e.g., dictionary keys), immutability ensures their hash values remain constant, preventing unpredictable behavior. Additionally, Python optimizes memory usage by reusing identical string objects (string interning), reducing redundant allocations.\n",
        "\n",
        "  - Immutability also prevents accidental modifications, making strings safer in multi-threaded environments. If modification is needed, Python creates a new string instead of altering the original. This design improves performance and ensures data integrity throughout execution."
      ],
      "metadata": {
        "id": "Ua41rs8D8Cnn"
      }
    },
    {
      "cell_type": "markdown",
      "source": [
        "11. What advantages do dictionaries offer over lists for certain tasks ?\n",
        "   - Dictionaries offer **faster lookups** (O(1) average time complexity) compared to lists (O(n)), making them ideal for key-value mappings. They allow **direct access** to values using unique keys instead of searching through an index. Dictionaries also support **dynamic data storage**, enabling flexible modifications. Unlike lists, they store **associative data**, making them useful for configurations, caching, and indexing. Additionally, dictionaries prevent **duplicate keys**, ensuring data integrity. Their **hash-based implementation** enhances efficiency in large-scale applications."
      ],
      "metadata": {
        "id": "ND3QyA2O9o5w"
      }
    },
    {
      "cell_type": "markdown",
      "source": [
        "12. Describe a scenario where using a tuple would be preferable over a list ?\n",
        "  - A scenario where using a tuple would be preferable over a list is when representing a record or a row in a database.\n",
        "  - For example  -\n",
        "    consider a student's information: name, age, and grade. This data is typically not modified once created. A tuple would be a suitable choice here because it is immutable, ensuring the data remains consistent and tamper-proof. Additionally, tuples are more memory-efficient and faster than lists, making them ideal for large datasets. This ensures data integrity and performance."
      ],
      "metadata": {
        "id": "vDrhdxF0AxBy"
      }
    },
    {
      "cell_type": "markdown",
      "source": [
        "13.  How do sets handle duplicate values in Python ?\n",
        "  - Sets in Python automatically remove duplicate values because they are unordered collections of unique elements. When adding elements to a set, Python uses a hash table to check for duplicates and only keeps unique values.\n",
        "\n",
        "   Example -"
      ],
      "metadata": {
        "id": "4ZldZba0CLAp"
      }
    },
    {
      "cell_type": "code",
      "source": [
        "s = {1, 2, 2, 3, 4, 4}\n",
        "print(s)  # Output: {1, 2, 3, 4}\n"
      ],
      "metadata": {
        "colab": {
          "base_uri": "https://localhost:8080/"
        },
        "id": "xl30BIRtDCER",
        "outputId": "948cfab6-b6ce-4879-c473-521523e81214"
      },
      "execution_count": null,
      "outputs": [
        {
          "output_type": "stream",
          "name": "stdout",
          "text": [
            "{1, 2, 3, 4}\n"
          ]
        }
      ]
    },
    {
      "cell_type": "markdown",
      "source": [
        "14.  How does the “in” keyword work differently for lists and dictionaries ?\n",
        "  - The in keyword checks for membership but works differently for **lists** and **dictionaries**:\n",
        "\n",
        "- **Lists** : Searches **all elements** sequentially (**O(n)** time complexity)\n"
      ],
      "metadata": {
        "id": "uLasAjHfDUJ2"
      }
    },
    {
      "cell_type": "code",
      "source": [
        "lst = [1, 2, 3]\n",
        "print(2 in lst)  # True (Linear search)\n"
      ],
      "metadata": {
        "colab": {
          "base_uri": "https://localhost:8080/"
        },
        "id": "EhQ9HVIKEu-S",
        "outputId": "99445b2d-1f57-456a-b2a2-eb3687ef8d87"
      },
      "execution_count": null,
      "outputs": [
        {
          "output_type": "stream",
          "name": "stdout",
          "text": [
            "True\n"
          ]
        }
      ]
    },
    {
      "cell_type": "markdown",
      "source": [
        "  - **Dictionaries** : Checks **keys only** using a **hash table (O(1)** on average)."
      ],
      "metadata": {
        "id": "fJfdMVYME2jJ"
      }
    },
    {
      "cell_type": "code",
      "source": [
        "d = {\"a\": 1, \"b\": 2}\n",
        "print(\"a\" in d)  # True (Fast lookup)\n"
      ],
      "metadata": {
        "colab": {
          "base_uri": "https://localhost:8080/"
        },
        "id": "vDWrgFqFFVlJ",
        "outputId": "94d8b9db-91c9-426b-ba17-442dedcfd98c"
      },
      "execution_count": null,
      "outputs": [
        {
          "output_type": "stream",
          "name": "stdout",
          "text": [
            "True\n"
          ]
        }
      ]
    },
    {
      "cell_type": "markdown",
      "source": [
        "15. Can you modify the elements of a tuple? Explain why or why not.\n",
        "  - No, you *cannot modify*  the elements of a *tuple* because tuples are *immutable* in Python. Once created, their elements cannot be *changed, added, or removed*.\n",
        "\n",
        "   Example -"
      ],
      "metadata": {
        "id": "VIZfynqgFbiu"
      }
    },
    {
      "cell_type": "code",
      "source": [
        "t = (1, 2, 3)\n",
        "t[0] = 10    # t[0] = 10  # ❌ TypeError: 'tuple' object does not support item assignment"
      ],
      "metadata": {
        "colab": {
          "base_uri": "https://localhost:8080/",
          "height": 158
        },
        "id": "Za4xtVRdIeyM",
        "outputId": "535968e9-cd28-46ae-caf6-594796ad5a63"
      },
      "execution_count": null,
      "outputs": [
        {
          "output_type": "error",
          "ename": "TypeError",
          "evalue": "'tuple' object does not support item assignment",
          "traceback": [
            "\u001b[0;31m---------------------------------------------------------------------------\u001b[0m",
            "\u001b[0;31mTypeError\u001b[0m                                 Traceback (most recent call last)",
            "\u001b[0;32m<ipython-input-12-6076a7a3a9c0>\u001b[0m in \u001b[0;36m<cell line: 0>\u001b[0;34m()\u001b[0m\n\u001b[1;32m      1\u001b[0m \u001b[0mt\u001b[0m \u001b[0;34m=\u001b[0m \u001b[0;34m(\u001b[0m\u001b[0;36m1\u001b[0m\u001b[0;34m,\u001b[0m \u001b[0;36m2\u001b[0m\u001b[0;34m,\u001b[0m \u001b[0;36m3\u001b[0m\u001b[0;34m)\u001b[0m  \u001b[0;31m# t[0] = 10  # ❌ TypeError: 'tuple' object does not support item assignment\u001b[0m\u001b[0;34m\u001b[0m\u001b[0;34m\u001b[0m\u001b[0m\n\u001b[0;32m----> 2\u001b[0;31m \u001b[0mt\u001b[0m\u001b[0;34m[\u001b[0m\u001b[0;36m0\u001b[0m\u001b[0;34m]\u001b[0m \u001b[0;34m=\u001b[0m \u001b[0;36m10\u001b[0m\u001b[0;34m\u001b[0m\u001b[0;34m\u001b[0m\u001b[0m\n\u001b[0m",
            "\u001b[0;31mTypeError\u001b[0m: 'tuple' object does not support item assignment"
          ]
        }
      ]
    },
    {
      "cell_type": "markdown",
      "source": [
        "16. What is a nested dictionary, and give an example of its use case ?\n",
        "  - A *nested dictionary* is a dictionary containing another dictionary as a value. It helps organize *hierarchical* or *structured* data efficiently\n",
        "-  **Use Case: Storing Student Records**\n",
        "\n",
        "  Example -"
      ],
      "metadata": {
        "id": "25mCAs_3JJdj"
      }
    },
    {
      "cell_type": "code",
      "source": [
        "students = {\n",
        "    \"Alice\": {\"age\": 20, \"grade\": \"A\"},\n",
        "    \"Bob\": {\"age\": 22, \"grade\": \"B\"}\n",
        "}\n",
        "print(students[\"Alice\"][\"grade\"])  # Output: A\n"
      ],
      "metadata": {
        "colab": {
          "base_uri": "https://localhost:8080/"
        },
        "id": "JdrmYsNdLBNk",
        "outputId": "586edec1-bbc4-4b4d-aed1-18dfe082f6b5"
      },
      "execution_count": null,
      "outputs": [
        {
          "output_type": "stream",
          "name": "stdout",
          "text": [
            "A\n"
          ]
        }
      ]
    },
    {
      "cell_type": "markdown",
      "source": [
        "17. Describe the time complexity of accessing elements in a dictionary.\n",
        "  - Accessing elements in a dictionary has an average time complexity of O(1) due to its hash table implementation. The key is hashed, and its corresponding value is retrieved in constant time.\n",
        "\n",
        "  - However, in the worst case (O(n)), hash collisions may require searching through a linked list or another structure.\n",
        "\n",
        "  Example -"
      ],
      "metadata": {
        "id": "wAEFGmqeLaPR"
      }
    },
    {
      "cell_type": "code",
      "source": [
        "d = {\"a\": 1, \"b\": 2}\n",
        "print(d[\"a\"])  # O(1) lookup\n"
      ],
      "metadata": {
        "colab": {
          "base_uri": "https://localhost:8080/"
        },
        "id": "ZeEPhUsJOHWK",
        "outputId": "e340428a-a1b4-4d94-935b-666495bfb7fd"
      },
      "execution_count": null,
      "outputs": [
        {
          "output_type": "stream",
          "name": "stdout",
          "text": [
            "1\n"
          ]
        }
      ]
    },
    {
      "cell_type": "markdown",
      "source": [
        "18. In what situations are lists preferred over dictionaries ?\n",
        "  - Lists are preferred over dictionaries when **order matters, sequential access** is needed, or when storing **homogeneous data**. They are ideal for **indexed** access, **iterating in order**, and **storing simple collections** like numbers or strings.\n",
        "\n",
        " **Use lists when** -\n",
        "- You need ordered elements (list[i]).\n",
        "- Data is not key-value pairs.\n",
        "- Memory efficiency is important (lists use less memory than dictionaries).\n",
        "\n",
        "   Example -\n",
        "  "
      ],
      "metadata": {
        "id": "ZoY1iU-VOXfy"
      }
    },
    {
      "cell_type": "code",
      "source": [
        "nums = [10, 20, 30]  # Ordered, index-based access\n"
      ],
      "metadata": {
        "id": "tlYKednDQ4sP"
      },
      "execution_count": null,
      "outputs": []
    },
    {
      "cell_type": "markdown",
      "source": [
        "19. Why are dictionaries considered unordered, and how does that affect data retrieval ?\n",
        "  - Dictionaries are considered unordered because they use a hash table to store key-value pairs, meaning elements are not stored in a sequential order. Instead, the hash function maps keys to specific memory locations, optimizing fast access (O(1) on average).\n",
        "  - As a result, dictionaries do not maintain the insertion order prior to Python 3.7 (though insertion order is preserved in Python 3.7+ due to an implementation detail).\n",
        "\n",
        "  - This unordered nature affects data retrieval by making it impossible to access elements by position or index, unlike lists. However, it enables quick lookups via keys and efficient insertion and deletion operations, enhancing performance."
      ],
      "metadata": {
        "id": "IS5wSIjARJ1K"
      }
    },
    {
      "cell_type": "markdown",
      "source": [
        "20.  Explain the difference between a list and a dictionary in terms of data retrieval.\n",
        "  - A list retrieves data by index, requiring O(1) time for direct access but O(n) for searching an element.\n",
        "\n",
        "  - A dictionary retrieves data by key, using a hash table, making lookups O(1) on average.\n",
        "\n",
        "    Example -"
      ],
      "metadata": {
        "id": "Bo8l5nPES2CM"
      }
    },
    {
      "cell_type": "code",
      "source": [
        "lst = [10, 20, 30]\n",
        "print(lst[1])  # O(1) (Index-based)\n",
        "\n",
        "d = {\"a\": 10, \"b\": 20}\n",
        "print(d[\"b\"])  # O(1) (Key-based)\n"
      ],
      "metadata": {
        "colab": {
          "base_uri": "https://localhost:8080/"
        },
        "id": "o0Q3OLlGTrW-",
        "outputId": "1d2824be-d92e-449f-fa36-f30a44de8222"
      },
      "execution_count": null,
      "outputs": [
        {
          "output_type": "stream",
          "name": "stdout",
          "text": [
            "20\n",
            "20\n"
          ]
        }
      ]
    },
    {
      "cell_type": "markdown",
      "source": [
        "# **Practical Questions**\n"
      ],
      "metadata": {
        "id": "d4Zn19zj6hxg"
      }
    },
    {
      "cell_type": "markdown",
      "source": [
        "1. Write a code to create a string with your name and print it.\n",
        "  - Here’s a simple Python code to create a string with my name and print it:\n",
        "\n",
        "  Example -"
      ],
      "metadata": {
        "id": "wF1Jz_Do61DN"
      }
    },
    {
      "cell_type": "code",
      "source": [
        "name = \"Ramesh\"\n",
        "print(name)"
      ],
      "metadata": {
        "colab": {
          "base_uri": "https://localhost:8080/"
        },
        "id": "CtcAEXhm9oA0",
        "outputId": "e38a450b-8492-49b8-9068-06178ede9c5d"
      },
      "execution_count": 7,
      "outputs": [
        {
          "output_type": "stream",
          "name": "stdout",
          "text": [
            "Ramesh\n"
          ]
        }
      ]
    },
    {
      "cell_type": "markdown",
      "source": [
        "2. Write a code to find the length of the string \"Hello World\"."
      ],
      "metadata": {
        "id": "bO571loQ99rm"
      }
    },
    {
      "cell_type": "code",
      "source": [
        "text = \"Hello world\"\n",
        "length = len(text)\n",
        "print(length)   # The len() function returns the number of characters in the string, including spaces."
      ],
      "metadata": {
        "colab": {
          "base_uri": "https://localhost:8080/"
        },
        "id": "cW3qEKw8-WmV",
        "outputId": "ff020044-4f01-4b6b-abf2-1b325cabc7f4"
      },
      "execution_count": 11,
      "outputs": [
        {
          "output_type": "stream",
          "name": "stdout",
          "text": [
            "11\n"
          ]
        }
      ]
    },
    {
      "cell_type": "markdown",
      "source": [
        "3. Write a code to slice the first 3 characters from the string \"Python Programming\".\n",
        "  - Python code to slice the first 3 characters from the string \"Python Programming\"."
      ],
      "metadata": {
        "id": "507w4pdm_s2n"
      }
    },
    {
      "cell_type": "code",
      "source": [
        "text = \"Python Programming\"\n",
        "sliced_text = text[:3]\n",
        "print(sliced_text) # The slicing operation text[:3] extracts characters from index 0 to 2 (excluding index 3)"
      ],
      "metadata": {
        "colab": {
          "base_uri": "https://localhost:8080/"
        },
        "id": "8K1nRGsPARHa",
        "outputId": "6bac105a-bdae-448b-8f85-46cb5f22d945"
      },
      "execution_count": 12,
      "outputs": [
        {
          "output_type": "stream",
          "name": "stdout",
          "text": [
            "Pyt\n"
          ]
        }
      ]
    },
    {
      "cell_type": "markdown",
      "source": [
        "4. Write a code to convert the string \"hello\" to uppercase."
      ],
      "metadata": {
        "id": "jTKEL_KiBW0G"
      }
    },
    {
      "cell_type": "code",
      "source": [
        "text = \"hello\"\n",
        "uppercase_text = text.upper()\n",
        "print(uppercase_text)"
      ],
      "metadata": {
        "colab": {
          "base_uri": "https://localhost:8080/"
        },
        "id": "lBz0T7bFCBtn",
        "outputId": "68bde224-1f13-4dbd-9131-8e6654597297"
      },
      "execution_count": 13,
      "outputs": [
        {
          "output_type": "stream",
          "name": "stdout",
          "text": [
            "HELLO\n"
          ]
        }
      ]
    },
    {
      "cell_type": "markdown",
      "source": [
        "5.  Write a code to replace the word \"apple\" with \"orange\" in the string \"I like apple\"."
      ],
      "metadata": {
        "id": "dhjkkK0nC1xX"
      }
    },
    {
      "cell_type": "code",
      "source": [
        "text = \"I like apple\"\n",
        "replace_text = text.replace(\"apple\",\"orange\")\n",
        "print(replace_text)"
      ],
      "metadata": {
        "colab": {
          "base_uri": "https://localhost:8080/"
        },
        "id": "XnvgyMuXDOdP",
        "outputId": "fd023825-1c01-485f-d498-e3ccf94e5be6"
      },
      "execution_count": 14,
      "outputs": [
        {
          "output_type": "stream",
          "name": "stdout",
          "text": [
            "I like orange\n"
          ]
        }
      ]
    },
    {
      "cell_type": "markdown",
      "source": [
        "6. Write a code to create a list with numbers 1 to 5 and print it."
      ],
      "metadata": {
        "id": "7iIawStAEzs3"
      }
    },
    {
      "cell_type": "code",
      "source": [
        "list = [1,2,3,4,5]\n",
        "print(list)"
      ],
      "metadata": {
        "colab": {
          "base_uri": "https://localhost:8080/"
        },
        "id": "NCJ2IvN-Eyvm",
        "outputId": "64e8bb9d-f460-473a-e530-854e0ca123f3"
      },
      "execution_count": 15,
      "outputs": [
        {
          "output_type": "stream",
          "name": "stdout",
          "text": [
            "[1, 2, 3, 4, 5]\n"
          ]
        }
      ]
    },
    {
      "cell_type": "markdown",
      "source": [
        "7. Write a code to append the number 10 to the list [1, 2, 3, 4]."
      ],
      "metadata": {
        "id": "4OuJPpTFFrYl"
      }
    },
    {
      "cell_type": "code",
      "source": [
        "number = [1,2,3,4]\n",
        "number.append(10)\n",
        "print(number)"
      ],
      "metadata": {
        "colab": {
          "base_uri": "https://localhost:8080/"
        },
        "id": "zW-2EKtTFqQu",
        "outputId": "bf028a89-6e84-494f-d448-66cb7c5b47ad"
      },
      "execution_count": 24,
      "outputs": [
        {
          "output_type": "stream",
          "name": "stdout",
          "text": [
            "[1, 2, 3, 4, 10]\n"
          ]
        }
      ]
    },
    {
      "cell_type": "markdown",
      "source": [
        "8. Write a code to remove the number 3 from the list [1, 2, 3, 4, 5]."
      ],
      "metadata": {
        "id": "F5taRVhhFpwe"
      }
    },
    {
      "cell_type": "code",
      "source": [
        "numbers = [1,2,3,4,5]\n",
        "numbers.remove(3)\n",
        "print(numbers)"
      ],
      "metadata": {
        "colab": {
          "base_uri": "https://localhost:8080/"
        },
        "id": "NKCW-YgHIHah",
        "outputId": "b29da1c1-03b2-48c4-c0fd-bed825cd9014"
      },
      "execution_count": 25,
      "outputs": [
        {
          "output_type": "stream",
          "name": "stdout",
          "text": [
            "[1, 2, 4, 5]\n"
          ]
        }
      ]
    },
    {
      "cell_type": "markdown",
      "source": [
        "9.  Write a code to access the second element in the list ['a', 'b', 'c', 'd']."
      ],
      "metadata": {
        "id": "yxiYCt6TIsg4"
      }
    },
    {
      "cell_type": "code",
      "source": [
        "Alphabet = ['a','b','c','d']\n",
        "second_element = Alphabet[1]\n",
        "print(second_element)"
      ],
      "metadata": {
        "colab": {
          "base_uri": "https://localhost:8080/"
        },
        "id": "kXkxjsxqI1g4",
        "outputId": "c7c3d247-f410-44e2-ca3e-1b8f2ae9bb24"
      },
      "execution_count": 28,
      "outputs": [
        {
          "output_type": "stream",
          "name": "stdout",
          "text": [
            "b\n"
          ]
        }
      ]
    },
    {
      "cell_type": "markdown",
      "source": [
        "10.  Write a code to reverse the list [10, 20, 30, 40, 50]."
      ],
      "metadata": {
        "id": "Le2cmoTzKhyz"
      }
    },
    {
      "cell_type": "code",
      "source": [
        "numbers = [10,20,30,40,50]\n",
        "numbers.reverse()\n",
        "print(numbers)"
      ],
      "metadata": {
        "colab": {
          "base_uri": "https://localhost:8080/"
        },
        "id": "VqHwXIMSKxaB",
        "outputId": "c30f26ef-07d5-42fd-dacb-ec6c25f679d0"
      },
      "execution_count": 29,
      "outputs": [
        {
          "output_type": "stream",
          "name": "stdout",
          "text": [
            "[50, 40, 30, 20, 10]\n"
          ]
        }
      ]
    },
    {
      "cell_type": "markdown",
      "source": [
        "  - The .reverse() method reverses the list in place. Alternatively, you can use slicing:"
      ],
      "metadata": {
        "id": "uNCQ49OGMRuI"
      }
    },
    {
      "cell_type": "code",
      "source": [
        "numbers = [10,20,30,40,50]\n",
        "reverse_numbers = numbers[::-1]\n",
        "print(reverse_numbers)"
      ],
      "metadata": {
        "colab": {
          "base_uri": "https://localhost:8080/"
        },
        "id": "gKPPZMfHMbWx",
        "outputId": "aeb3f798-0cb0-4158-dfd5-6113e11d4479"
      },
      "execution_count": 31,
      "outputs": [
        {
          "output_type": "stream",
          "name": "stdout",
          "text": [
            "[50, 40, 30, 20, 10]\n"
          ]
        }
      ]
    },
    {
      "cell_type": "markdown",
      "source": [
        "11.  Write a code to create a tuple with the elements 10, 20, 30 and print it."
      ],
      "metadata": {
        "id": "Wz9sqx_PLvPn"
      }
    },
    {
      "cell_type": "code",
      "source": [
        "numbers = (10, 20, 30 )\n",
        "print(numbers)\n",
        "print(type(numbers))"
      ],
      "metadata": {
        "colab": {
          "base_uri": "https://localhost:8080/"
        },
        "id": "0hPuqpGvL67X",
        "outputId": "6365c869-f549-4aee-cd8d-c5200a42f04b"
      },
      "execution_count": 41,
      "outputs": [
        {
          "output_type": "stream",
          "name": "stdout",
          "text": [
            "(10, 20, 30)\n",
            "<class 'tuple'>\n"
          ]
        }
      ]
    },
    {
      "cell_type": "markdown",
      "source": [
        "12.  Write a code to access the first element of the tuple ('apple', 'banana', 'cherry')."
      ],
      "metadata": {
        "id": "QpWssax2PlvT"
      }
    },
    {
      "cell_type": "code",
      "source": [
        "my_tuple = ('apple','banana','cherry')\n",
        "first_element = my_tuple[0]\n",
        "print(first_element)"
      ],
      "metadata": {
        "colab": {
          "base_uri": "https://localhost:8080/"
        },
        "id": "35FgRR_NPxe_",
        "outputId": "f60ba9ab-1284-49a1-fe1b-6e2c0010cae0"
      },
      "execution_count": 42,
      "outputs": [
        {
          "output_type": "stream",
          "name": "stdout",
          "text": [
            "apple\n"
          ]
        }
      ]
    },
    {
      "cell_type": "markdown",
      "source": [
        "13.  Write a code to count how many times the number 2 appears in the tuple (1, 2, 3, 2, 4, 2) ."
      ],
      "metadata": {
        "id": "1Y6pev7aQkxJ"
      }
    },
    {
      "cell_type": "code",
      "source": [
        "my_tuple =  (1, 2, 3, 2, 4, 2)\n",
        "count_of_2 = my_tuple.count(2)\n",
        "print(count_of_2)"
      ],
      "metadata": {
        "colab": {
          "base_uri": "https://localhost:8080/"
        },
        "id": "o2qqnR5UQ1VT",
        "outputId": "4f58264f-26df-4c6b-9c75-78b9026c282b"
      },
      "execution_count": 44,
      "outputs": [
        {
          "output_type": "stream",
          "name": "stdout",
          "text": [
            "3\n"
          ]
        }
      ]
    },
    {
      "cell_type": "markdown",
      "source": [
        "14.  Write a code to find the index of the element \"cat\" in the tuple ('dog', 'cat', 'rabbit')."
      ],
      "metadata": {
        "id": "KNGLujylRyjg"
      }
    },
    {
      "cell_type": "code",
      "source": [
        "my_tuple = ('dog','cat','rabbit')\n",
        "index_cat = my_tuple.index('cat')\n",
        "print(index_cat)"
      ],
      "metadata": {
        "colab": {
          "base_uri": "https://localhost:8080/"
        },
        "id": "EsDKm6DqSbMj",
        "outputId": "ad79a0cf-2f04-4146-cb5d-a6071c9019e1"
      },
      "execution_count": 49,
      "outputs": [
        {
          "output_type": "stream",
          "name": "stdout",
          "text": [
            "1\n"
          ]
        }
      ]
    },
    {
      "cell_type": "markdown",
      "source": [
        "15.  Write a code to check if the element \"banana\" is in the tuple ('apple', 'orange', 'banana') ."
      ],
      "metadata": {
        "id": "83eRv55dUKYF"
      }
    },
    {
      "cell_type": "code",
      "source": [
        "tuple = ('apple', 'orange', 'banana')\n",
        "check_banana = 'banana'in tuple\n",
        "print(check_banana) # The 'in' keyword checks if the specified element is present in the tuple and returns True or False."
      ],
      "metadata": {
        "colab": {
          "base_uri": "https://localhost:8080/"
        },
        "id": "YWFgOmkUUWOc",
        "outputId": "9d1127e6-065a-4407-f7aa-f71585b57121"
      },
      "execution_count": 50,
      "outputs": [
        {
          "output_type": "stream",
          "name": "stdout",
          "text": [
            "True\n"
          ]
        }
      ]
    },
    {
      "cell_type": "markdown",
      "source": [
        "16.  Write a code to create a set with the elements 1, 2, 3, 4, 5 and print it."
      ],
      "metadata": {
        "id": "9iigN1yjVvJG"
      }
    },
    {
      "cell_type": "code",
      "source": [
        "my_sets = { 1, 2, 3, 4, 5 }\n",
        "print(my_sets)"
      ],
      "metadata": {
        "colab": {
          "base_uri": "https://localhost:8080/"
        },
        "id": "7bIEKt_qWXp0",
        "outputId": "0d89b048-c4b0-429f-bc52-aca2fe611036"
      },
      "execution_count": 52,
      "outputs": [
        {
          "output_type": "stream",
          "name": "stdout",
          "text": [
            "{1, 2, 3, 4, 5}\n"
          ]
        }
      ]
    },
    {
      "cell_type": "markdown",
      "source": [
        "17. Write a code to add the element 6 to the set {1, 2, 3, 4}."
      ],
      "metadata": {
        "id": "NAMD6LCGW8nD"
      }
    },
    {
      "cell_type": "code",
      "source": [
        "my_sets = {1,2,3,4}\n",
        "my_sets.add(6)   # The .add() method adds an element to the set. If the element is already in the set, it will not be added again.\n",
        "print(my_sets)"
      ],
      "metadata": {
        "colab": {
          "base_uri": "https://localhost:8080/"
        },
        "id": "Tr2Xcxx-XDc2",
        "outputId": "7224a8b9-c9b9-4b0b-a65e-0305a910c151"
      },
      "execution_count": 54,
      "outputs": [
        {
          "output_type": "stream",
          "name": "stdout",
          "text": [
            "{1, 2, 3, 4, 6}\n"
          ]
        }
      ]
    },
    {
      "cell_type": "markdown",
      "source": [
        "18.  Write a code to create a tuple with the elements 10, 20, 30 and print it."
      ],
      "metadata": {
        "id": "_yqMXNhVYIOe"
      }
    },
    {
      "cell_type": "code",
      "source": [
        "my_tuple = (10, 20, 30)\n",
        "print(my_tuple)"
      ],
      "metadata": {
        "colab": {
          "base_uri": "https://localhost:8080/"
        },
        "id": "C_bcvGpIYO3Z",
        "outputId": "e938cf83-c127-4d95-8bb0-7436dee9c611"
      },
      "execution_count": 55,
      "outputs": [
        {
          "output_type": "stream",
          "name": "stdout",
          "text": [
            "(10, 20, 30)\n"
          ]
        }
      ]
    },
    {
      "cell_type": "markdown",
      "source": [
        "19.  Write a code to access the first element of the tuple ('apple', 'banana', 'cherry')."
      ],
      "metadata": {
        "id": "g8HLUffkYyi7"
      }
    },
    {
      "cell_type": "code",
      "source": [
        "my_tuple = ('apple', 'banana', 'cherry')\n",
        "first_element = my_tuple[0]\n",
        "print(first_element)"
      ],
      "metadata": {
        "colab": {
          "base_uri": "https://localhost:8080/"
        },
        "id": "qVjGS9H6Y_5S",
        "outputId": "8204e7e2-33fc-4f34-85ae-7ecebff894f8"
      },
      "execution_count": 60,
      "outputs": [
        {
          "output_type": "stream",
          "name": "stdout",
          "text": [
            "apple\n"
          ]
        }
      ]
    },
    {
      "cell_type": "markdown",
      "source": [
        "20.  Write a code to count how many times the number 2 appears in the tuple (1, 2, 3, 2, 4, 2)."
      ],
      "metadata": {
        "id": "VHOIxT2YZkXr"
      }
    },
    {
      "cell_type": "code",
      "source": [
        "tuple =  (1, 2, 3, 2, 4, 2)\n",
        "count_of_2 = tuple.count(2)\n",
        "print(count_of_2)"
      ],
      "metadata": {
        "colab": {
          "base_uri": "https://localhost:8080/"
        },
        "id": "NLO0R5KcaADt",
        "outputId": "756179e4-b4ff-4d83-8860-7c730da3ced5"
      },
      "execution_count": 62,
      "outputs": [
        {
          "output_type": "stream",
          "name": "stdout",
          "text": [
            "3\n"
          ]
        }
      ]
    },
    {
      "cell_type": "markdown",
      "source": [
        "Note - the next questions from 18 to 24 repeated question so I have already solved that questions.    THANK YOU."
      ],
      "metadata": {
        "id": "B4NIA4GjanX6"
      }
    }
  ]
}